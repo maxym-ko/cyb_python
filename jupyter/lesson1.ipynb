{
 "cells": [
  {
   "cell_type": "code",
   "execution_count": 40,
   "metadata": {},
   "outputs": [],
   "source": [
    "### set ###"
   ]
  },
  {
   "cell_type": "code",
   "execution_count": null,
   "metadata": {},
   "outputs": [],
   "source": [
    "# 18_1\n",
    "\n",
    "a = {2, 7}\n",
    "\n",
    "contains_five = 5 in a\n",
    "\n",
    "b = set()\n",
    "b.add(5)\n",
    "\n",
    "size_a, size_b = len(a), len(b)\n",
    "\n",
    "disjoint = a.isdisjoint(b)\n",
    "\n",
    "is_subset = b <= a\n",
    "union = a & b\n",
    "intersection = a | b\n",
    "difference = a - b\n",
    "symmetric_difference = a ^ b\n",
    "\n",
    "b |= a\n",
    "size_b = len(b)\n"
   ]
  },
  {
   "cell_type": "code",
   "execution_count": 41,
   "metadata": {},
   "outputs": [
    {
     "name": "stdout",
     "output_type": "stream",
     "text": [
      "{2, 3, 4, 5, 6, 7, 8, 9, 10, 11, 12, 13, 14, 15, 16, 17, 18, 19, 20, 21, 22, 23}\n",
      "{256, 4, 9, 16, 144, 400, 529, 25, 289, 36, 169, 49, 441, 64, 196, 324, 81, 225, 100, 484, 361, 121}\n"
     ]
    }
   ],
   "source": [
    "# 18_2\n",
    "\n",
    "c = {x for x in range(2, 24)} # or a = set(range(2, 24))\n",
    "print(c)\n",
    "c_square = {x * x for x in c}\n",
    "print(c_square)\n"
   ]
  },
  {
   "cell_type": "code",
   "execution_count": 43,
   "metadata": {},
   "outputs": [
    {
     "name": "stdout",
     "output_type": "stream",
     "text": [
      "{8, 2, 4}\n"
     ]
    }
   ],
   "source": [
    "# 18_6\n",
    "\n",
    "def f(a:set, b:set) -> set:\n",
    "    res = set()\n",
    "    for a_elem in a:\n",
    "        if all((a_elem % b_elem for b_elem in b)):\n",
    "            res.add(a_elem)\n",
    "    # or res = {a_elem for a_elem in a if all((a_elem % b_elem for x in b))}\n",
    "    return res\n",
    "\n",
    "\n",
    "print(f({2, 4, 8}, {5, 6, 7}))\n"
   ]
  },
  {
   "cell_type": "code",
   "execution_count": 46,
   "metadata": {},
   "outputs": [
    {
     "data": {
      "text/plain": [
       "3"
      ]
     },
     "execution_count": 46,
     "metadata": {},
     "output_type": "execute_result"
    }
   ],
   "source": [
    "# 18_7\n",
    "\n",
    "s = [1, 2, 2, 3, 3, 3]\n",
    "different_values = len(set(s))\n"
   ]
  },
  {
   "cell_type": "code",
   "execution_count": null,
   "metadata": {},
   "outputs": [],
   "source": [
    "### dictionary ###"
   ]
  },
  {
   "cell_type": "code",
   "execution_count": 63,
   "metadata": {},
   "outputs": [
    {
     "name": "stdout",
     "output_type": "stream",
     "text": [
      "1 0 3 \n",
      "2 3 6 \n",
      "(1, 2) (0, 3) (3, 6) \n",
      "0 8\n",
      "1 2\n",
      "3 6\n",
      "\n"
     ]
    },
    {
     "data": {
      "text/plain": [
       "{1: 2, 3: 6}"
      ]
     },
     "execution_count": 63,
     "metadata": {},
     "output_type": "execute_result"
    }
   ],
   "source": [
    "# 18_10\n",
    "\n",
    "a = {1:2, 0:3}\n",
    "\n",
    "a[3] = 6\n",
    "\n",
    "for el in a.keys(): print(el, end=\" \")\n",
    "print()\n",
    "for el in a.values(): print(el, end=\" \")\n",
    "print()  \n",
    "for el in a.items(): print(el, end=\" \")\n",
    "print()  \n",
    "\n",
    "a[0] += 5\n",
    "\n",
    "for el in sorted(a.keys()): print(el, a[el])\n",
    "print()  \n",
    "    \n",
    "contains_thirteen = 13 in a\n",
    "\n",
    "a.pop(0)\n",
    "\n",
    "a_size = len(a)"
   ]
  },
  {
   "cell_type": "code",
   "execution_count": 85,
   "metadata": {},
   "outputs": [
    {
     "name": "stdout",
     "output_type": "stream",
     "text": [
      "{1: 3, 4: 2, 3: 2}\n"
     ]
    }
   ],
   "source": [
    "# 18_17\n",
    "\n",
    "def f(s: list) -> dict:\n",
    "    res = {}\n",
    "    for el in s:\n",
    "        if el in res:\n",
    "            res[el] += 1\n",
    "        else:\n",
    "            res[el] = 1\n",
    "    return res        \n",
    "    \n",
    "    \n",
    "print(f([1, 2, 2, 3, 3, 3]))\n"
   ]
  },
  {
   "cell_type": "code",
   "execution_count": 88,
   "metadata": {},
   "outputs": [
    {
     "name": "stdout",
     "output_type": "stream",
     "text": [
      "[1]\n"
     ]
    }
   ],
   "source": [
    "# 18_20\n",
    "\n",
    "def reverse_f(f, y):\n",
    "    res = []\n",
    "    for k, v in f.items():\n",
    "        if v == y:\n",
    "            res.append(k)\n",
    "    return res\n",
    "\n",
    "\n",
    "s = [1, 2, 2, 3, 3, 3]\n",
    "print(reverse_f(f(s), 1))\n"
   ]
  },
  {
   "cell_type": "code",
   "execution_count": null,
   "metadata": {},
   "outputs": [],
   "source": []
  }
 ],
 "metadata": {
  "kernelspec": {
   "display_name": "Python 3",
   "language": "python",
   "name": "python3"
  },
  "language_info": {
   "codemirror_mode": {
    "name": "ipython",
    "version": 3
   },
   "file_extension": ".py",
   "mimetype": "text/x-python",
   "name": "python",
   "nbconvert_exporter": "python",
   "pygments_lexer": "ipython3",
   "version": "3.8.1"
  }
 },
 "nbformat": 4,
 "nbformat_minor": 4
}
